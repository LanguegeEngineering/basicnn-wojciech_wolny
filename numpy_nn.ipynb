{
  "nbformat": 4,
  "nbformat_minor": 0,
  "metadata": {
    "colab": {
      "name": "numpy_nn.ipynb",
      "provenance": [],
      "collapsed_sections": []
    },
    "kernelspec": {
      "name": "python3",
      "display_name": "Python 3"
    }
  },
  "cells": [
    {
      "cell_type": "markdown",
      "metadata": {
        "id": "Z4tcQ2V1fhT8",
        "colab_type": "text"
      },
      "source": [
        "### Zadania\n",
        "\n",
        "1. Dodać iteracje do treningu\n",
        "2. Dodać rysunek zmian strat w kolejnych iteracjach"
      ]
    },
    {
      "cell_type": "code",
      "metadata": {
        "id": "IqgyOy4Qso7v",
        "colab_type": "code",
        "colab": {
          "base_uri": "https://localhost:8080/",
          "height": 34
        },
        "outputId": "e13772b6-4b42-468b-b200-bc2faa4327f1"
      },
      "source": [
        "import numpy as np\n",
        "import matplotlib.pyplot as plt\n",
        "\n",
        "# N is batch size; D_in is input dimension;\n",
        "# H is hidden dimension; D_out is output dimension.\n",
        "N, D_in, H, D_out = 16, 4, 0, 1\n",
        "\n",
        "# Create random input and output data\n",
        "\n",
        "x_numpy = np.array(    [[0., 0., 0., 1.],\n",
        "                        [1., 0., 0., 1.],\n",
        "                        [0., 1., 0., 1.],\n",
        "                        [0., 0., 1., 1.],\n",
        "                        [1., 1., 0., 1.],\n",
        "                        [1., 0., 1., 1.],\n",
        "                        [0., 1., 1., 1.],\n",
        "                        [1., 1., 1., 1.],\n",
        "                        [0., 0., 0., 0.],\n",
        "                        [1., 0., 0., 0.],\n",
        "                        [0., 1., 0., 0.],\n",
        "                        [0., 0., 1., 0.],\n",
        "                        [1., 1., 0., 0.],\n",
        "                        [1., 0., 1., 0.],\n",
        "                        [0., 1., 1., 0.],\n",
        "                        [1., 1., 1., 0.]])\n",
        "\n",
        "print(x_numpy.shape)"
      ],
      "execution_count": 22,
      "outputs": [
        {
          "output_type": "stream",
          "text": [
            "(16, 4)\n"
          ],
          "name": "stdout"
        }
      ]
    },
    {
      "cell_type": "code",
      "metadata": {
        "id": "HyAwvfvmSV4l",
        "colab_type": "code",
        "colab": {
          "base_uri": "https://localhost:8080/",
          "height": 34
        },
        "outputId": "de584b4c-9e13-4210-f74c-686409c22727"
      },
      "source": [
        "y_numpy = np.array(     [[1.],\n",
        "                         [1.],\n",
        "                         [1.],\n",
        "                         [1.],\n",
        "                         [1.],\n",
        "                         [1.],\n",
        "                         [1.],\n",
        "                         [1.],\n",
        "                         [0.],\n",
        "                         [0.],\n",
        "                         [0.],\n",
        "                         [0.],\n",
        "                         [0.],\n",
        "                         [0.],\n",
        "                         [0.],\n",
        "                         [1.]])\n",
        "\n",
        "\n",
        "print(y_numpy.shape)"
      ],
      "execution_count": 23,
      "outputs": [
        {
          "output_type": "stream",
          "text": [
            "(16, 1)\n"
          ],
          "name": "stdout"
        }
      ]
    },
    {
      "cell_type": "code",
      "metadata": {
        "id": "7YJNoruLSXgk",
        "colab_type": "code",
        "colab": {
          "base_uri": "https://localhost:8080/",
          "height": 104
        },
        "outputId": "af48c81c-9613-41a3-e9e3-3b76d8cc26cc"
      },
      "source": [
        "# Randomly initialize weights\n",
        "w = np.random.randn(D_in, D_out)\n",
        "\n",
        "print(w)\n",
        "print(w.shape)"
      ],
      "execution_count": 24,
      "outputs": [
        {
          "output_type": "stream",
          "text": [
            "[[ 0.83233842]\n",
            " [ 0.28797221]\n",
            " [-1.64808364]\n",
            " [ 0.33874319]]\n",
            "(4, 1)\n"
          ],
          "name": "stdout"
        }
      ]
    },
    {
      "cell_type": "code",
      "metadata": {
        "id": "HPFz65FiPKmn",
        "colab_type": "code",
        "colab": {}
      },
      "source": [
        "learning_rate = 1e-5\n",
        "loss_list = []\n",
        "\n"
      ],
      "execution_count": 0,
      "outputs": []
    },
    {
      "cell_type": "code",
      "metadata": {
        "id": "NNm6egQBaLdy",
        "colab_type": "code",
        "colab": {
          "base_uri": "https://localhost:8080/",
          "height": 295
        },
        "outputId": "70d5e298-e102-4ffa-caa4-0afe24d9bead"
      },
      "source": [
        "# Forward pass: compute predicted y\n",
        "y_pred = x_numpy.dot(w)\n",
        "print(y_pred)\n"
      ],
      "execution_count": 5,
      "outputs": [
        {
          "output_type": "stream",
          "text": [
            "[[-0.69264143]\n",
            " [-1.13691764]\n",
            " [-1.32776131]\n",
            " [-0.25699011]\n",
            " [-1.77203753]\n",
            " [-0.70126633]\n",
            " [-0.89211   ]\n",
            " [-1.33638622]\n",
            " [ 0.        ]\n",
            " [-0.44427622]\n",
            " [-0.63511988]\n",
            " [ 0.43565131]\n",
            " [-1.0793961 ]\n",
            " [-0.0086249 ]\n",
            " [-0.19946857]\n",
            " [-0.64374479]]\n"
          ],
          "name": "stdout"
        }
      ]
    },
    {
      "cell_type": "code",
      "metadata": {
        "id": "pUWfDOFtSgIm",
        "colab_type": "code",
        "colab": {
          "base_uri": "https://localhost:8080/",
          "height": 86
        },
        "outputId": "8e0e2f8a-c173-4981-f6a4-b0e0433cb837"
      },
      "source": [
        "# Compute and print loss\n",
        "loss = np.square(y_pred - y_numpy).sum()\n",
        "\n",
        "# Backprop to compute gradients of w1 and w2 with respect to loss\n",
        "grad_y_pred = 2.0 * (y_pred - y_numpy)\n",
        "grad_w = x_numpy.T.dot(grad_y_pred)\n",
        "\n",
        "# Update weights\n",
        "w = w - learning_rate * grad_w\n",
        "print(w)"
      ],
      "execution_count": 6,
      "outputs": [
        {
          "output_type": "stream",
          "text": [
            "[[-0.44405376]\n",
            " [-0.63488216]\n",
            " [ 0.43580337]\n",
            " [-0.6923191 ]]\n"
          ],
          "name": "stdout"
        }
      ]
    },
    {
      "cell_type": "code",
      "metadata": {
        "id": "KBRbjAooSzs3",
        "colab_type": "code",
        "colab": {}
      },
      "source": [
        "loss_list = []\n",
        "learning_rate = 1e-2\n",
        "# Randomly initialize weights\n",
        "w = np.random.randn(D_in, D_out)\n",
        "for i in range(50):\n",
        "  y_pred = x_numpy.dot(w)\n",
        "  loss = np.square(y_pred - y_numpy).sum()\n",
        "  loss_list.append(loss)\n",
        "\n",
        "  # Backprop to compute gradients of w1 and w2 with respect to loss\n",
        "  grad_y_pred = 2.0 * (y_pred - y_numpy)\n",
        "  grad_w = x_numpy.T.dot(grad_y_pred)\n",
        "\n",
        "  # Update weights\n",
        "  w = w - learning_rate * grad_w"
      ],
      "execution_count": 0,
      "outputs": []
    },
    {
      "cell_type": "code",
      "metadata": {
        "id": "heXJqSquaVh4",
        "colab_type": "code",
        "colab": {
          "base_uri": "https://localhost:8080/",
          "height": 276
        },
        "outputId": "2c9596ba-929d-469f-976c-22b07b2cbd5e"
      },
      "source": [
        "plt.plot(loss_list, label = 'loss')\n",
        "plt.legend()\n",
        "plt.show()"
      ],
      "execution_count": 21,
      "outputs": [
        {
          "output_type": "display_data",
          "data": {
            "image/png": "[encoded data removed]",
            "text/plain": [
              "<Figure size 432x288 with 1 Axes>"
            ]
          },
          "metadata": {
            "tags": []
          }
        }
      ]
    },
    {
      "cell_type": "code",
      "metadata": {
        "id": "j-WQQA9COshP",
        "colab_type": "code",
        "colab": {}
      },
      "source": [
        ""
      ],
      "execution_count": 0,
      "outputs": []
    }
  ]
}