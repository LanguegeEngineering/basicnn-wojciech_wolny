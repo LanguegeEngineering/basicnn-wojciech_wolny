{
 "nbformat": 4,
 "nbformat_minor": 0,
 "metadata": {
  "colab": {
   "name": "numpy.ipynb",
   "provenance": []
  },
  "kernelspec": {
   "name": "python3",
   "language": "python",
   "display_name": "Python 3"
  },
  "pycharm": {
   "stem_cell": {
    "cell_type": "raw",
    "source": [],
    "metadata": {
     "collapsed": false
    }
   }
  }
 },
 "cells": [
  {
   "cell_type": "code",
   "metadata": {
    "id": "D0U8H6t8ZC37",
    "colab_type": "code",
    "colab": {},
    "pycharm": {
     "is_executing": false
    }
   },
   "source": [
    "import numpy as np"
   ],
   "execution_count": 1,
   "outputs": [
    {
     "traceback": [
      "\u001b[0;31m---------------------------------------------------------------------------\u001b[0m",
      "\u001b[0;31mAttributeError\u001b[0m                            Traceback (most recent call last)",
      "\u001b[0;32m<ipython-input-1-d3e166d92b26>\u001b[0m in \u001b[0;36m<module>\u001b[0;34m\u001b[0m\n\u001b[0;32m----> 1\u001b[0;31m \u001b[0;32mimport\u001b[0m \u001b[0mnumpy\u001b[0m \u001b[0;32mas\u001b[0m \u001b[0mnp\u001b[0m\u001b[0;34m\u001b[0m\u001b[0;34m\u001b[0m\u001b[0m\n\u001b[0m\u001b[1;32m      2\u001b[0m \u001b[0;34m\u001b[0m\u001b[0m\n",
      "\u001b[0;32m~/StudiaProjekt/InzLingwi/basicnn-wojciech_wolny/numpy.py\u001b[0m in \u001b[0;36m<module>\u001b[0;34m\u001b[0m\n\u001b[1;32m     12\u001b[0m \u001b[0;34m\"\"\"Numpy to biblioteka służąca do operacji na macierzach\"\"\"\u001b[0m\u001b[0;34m\u001b[0m\u001b[0;34m\u001b[0m\u001b[0m\n\u001b[1;32m     13\u001b[0m \u001b[0;34m\u001b[0m\u001b[0m\n\u001b[0;32m---> 14\u001b[0;31m \u001b[0ma\u001b[0m \u001b[0;34m=\u001b[0m \u001b[0mnp\u001b[0m\u001b[0;34m.\u001b[0m\u001b[0marange\u001b[0m\u001b[0;34m(\u001b[0m\u001b[0;36m15\u001b[0m\u001b[0;34m)\u001b[0m\u001b[0;34m.\u001b[0m\u001b[0mreshape\u001b[0m\u001b[0;34m(\u001b[0m\u001b[0;36m3\u001b[0m\u001b[0;34m,\u001b[0m \u001b[0;36m5\u001b[0m\u001b[0;34m)\u001b[0m\u001b[0;34m\u001b[0m\u001b[0;34m\u001b[0m\u001b[0m\n\u001b[0m\u001b[1;32m     15\u001b[0m \u001b[0mprint\u001b[0m\u001b[0;34m(\u001b[0m\u001b[0ma\u001b[0m\u001b[0;34m)\u001b[0m\u001b[0;34m\u001b[0m\u001b[0;34m\u001b[0m\u001b[0m\n\u001b[1;32m     16\u001b[0m \u001b[0;34m\u001b[0m\u001b[0m\n",
      "\u001b[0;31mAttributeError\u001b[0m: module 'numpy' has no attribute 'arange'"
     ],
     "ename": "AttributeError",
     "evalue": "module 'numpy' has no attribute 'arange'",
     "output_type": "error"
    }
   ]
  },
  {
   "cell_type": "markdown",
   "metadata": {
    "id": "WQoCKMOFZKnv",
    "colab_type": "text"
   },
   "source": [
    "Numpy to biblioteka służąca do operacji na macierzach "
   ]
  },
  {
   "cell_type": "code",
   "metadata": {
    "id": "4o0xdDaPZMg9",
    "colab_type": "code",
    "colab": {},
    "pycharm": {
     "is_executing": false
    }
   },
   "source": [
    "a = np.range(15).reshape(3, 5)\n",
    "print(a)\n",
    "\n",
    "print(\"a size is {}\".format(a.shape))\n",
    "print('\\n')\n",
    "\n",
    "b = a.reshape(5,3)\n",
    "print(b)\n",
    "print('\\n')\n",
    "\n",
    "\n",
    "zero_matrix = np.zeros((2,3))\n",
    "print(zero_matrix)\n",
    "print('\\n')\n",
    "one_matrix = np.ones((4,2))\n",
    "print(one_matrix)\n"
   ],
   "execution_count": 2,
   "outputs": [
    {
     "traceback": [
      "\u001b[0;31m---------------------------------------------------------------------------\u001b[0m",
      "\u001b[0;31mNameError\u001b[0m                                 Traceback (most recent call last)",
      "\u001b[0;32m<ipython-input-2-d2919b32d34f>\u001b[0m in \u001b[0;36m<module>\u001b[0;34m\u001b[0m\n\u001b[0;32m----> 1\u001b[0;31m \u001b[0ma\u001b[0m \u001b[0;34m=\u001b[0m \u001b[0mnp\u001b[0m\u001b[0;34m.\u001b[0m\u001b[0mrange\u001b[0m\u001b[0;34m(\u001b[0m\u001b[0;36m15\u001b[0m\u001b[0;34m)\u001b[0m\u001b[0;34m.\u001b[0m\u001b[0mreshape\u001b[0m\u001b[0;34m(\u001b[0m\u001b[0;36m3\u001b[0m\u001b[0;34m,\u001b[0m \u001b[0;36m5\u001b[0m\u001b[0;34m)\u001b[0m\u001b[0;34m\u001b[0m\u001b[0;34m\u001b[0m\u001b[0m\n\u001b[0m\u001b[1;32m      2\u001b[0m \u001b[0mprint\u001b[0m\u001b[0;34m(\u001b[0m\u001b[0ma\u001b[0m\u001b[0;34m)\u001b[0m\u001b[0;34m\u001b[0m\u001b[0;34m\u001b[0m\u001b[0m\n\u001b[1;32m      3\u001b[0m \u001b[0;34m\u001b[0m\u001b[0m\n\u001b[1;32m      4\u001b[0m \u001b[0mprint\u001b[0m\u001b[0;34m(\u001b[0m\u001b[0;34m\"a size is {}\"\u001b[0m\u001b[0;34m.\u001b[0m\u001b[0mformat\u001b[0m\u001b[0;34m(\u001b[0m\u001b[0ma\u001b[0m\u001b[0;34m.\u001b[0m\u001b[0mshape\u001b[0m\u001b[0;34m)\u001b[0m\u001b[0;34m)\u001b[0m\u001b[0;34m\u001b[0m\u001b[0;34m\u001b[0m\u001b[0m\n\u001b[1;32m      5\u001b[0m \u001b[0mprint\u001b[0m\u001b[0;34m(\u001b[0m\u001b[0;34m'\\n'\u001b[0m\u001b[0;34m)\u001b[0m\u001b[0;34m\u001b[0m\u001b[0;34m\u001b[0m\u001b[0m\n",
      "\u001b[0;31mNameError\u001b[0m: name 'np' is not defined"
     ],
     "ename": "NameError",
     "evalue": "name 'np' is not defined",
     "output_type": "error"
    }
   ]
  },
  {
   "cell_type": "markdown",
   "metadata": {
    "id": "OqS-VQXDZPHk",
    "colab_type": "text"
   },
   "source": [
    "Podstawowe operacje na macierzach:"
   ]
  },
  {
   "cell_type": "code",
   "metadata": {
    "id": "_Q0Pg5ObZRSk",
    "colab_type": "code",
    "colab": {}
   },
   "source": [
    "A = np.array( [[1,1],\n",
    "               [0,1]] )\n",
    "print(\"A\")\n",
    "print(A)\n",
    "print('\\n')\n",
    "\n",
    "B = np.array( [[2,0],\n",
    "               [3,4]] )\n",
    "\n",
    "print(\"B\")\n",
    "print(B)\n",
    "print('\\n')\n",
    "\n",
    "print('B\\'')\n",
    "print(B.T)\n",
    "print('\\n')\n",
    "\n",
    "print(\"A * B\")\n",
    "print(A * B)\n",
    "print('\\n')\n",
    "\n",
    "print(\"A x B\")\n",
    "print(A.dot(B))\n",
    "print('\\n')\n",
    "\n",
    "print(\"B x A\")\n",
    "print(B.dot(A))\n",
    "print('\\n')\n",
    "\n",
    "print(\"A - B\")\n",
    "print(A-B)\n",
    "print('\\n')\n",
    "\n",
    "print(\"A + B\")\n",
    "print(A+B)\n",
    "print('\\n')\n",
    "\n",
    "print(\"A + 3\")\n",
    "print(A+3)\n",
    "print('\\n')\n",
    "\n",
    "print(\"B^2\")\n",
    "print(B*2)\n",
    "print('\\n')"
   ],
   "execution_count": 0,
   "outputs": []
  },
  {
   "cell_type": "markdown",
   "metadata": {
    "id": "6zpB125fZVYP",
    "colab_type": "text"
   },
   "source": [
    "### Zadanie\n",
    "\n",
    "Korzystając z powyższych informacji  i mnożenia macieży skonstruować \"tabliczkę mnożenia\"."
   ]
  },
  {
   "cell_type": "code",
   "metadata": {
    "id": "kYLiTkm8WGx0",
    "colab_type": "code",
    "colab": {}
   },
   "source": [
    ""
   ],
   "execution_count": 0,
   "outputs": []
  }
 ]
}